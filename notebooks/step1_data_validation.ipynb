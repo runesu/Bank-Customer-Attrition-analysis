{
 "cells": [
  {
   "cell_type": "markdown",
   "metadata": {},
   "source": [
    "CASE 1 - Checking the loading of data from dataset.\n",
    "\n",
    "RESULT - can successfully load the csv file into a pandas dataframe"
   ]
  },
  {
   "cell_type": "code",
   "execution_count": 4,
   "metadata": {},
   "outputs": [
    {
     "name": "stdout",
     "output_type": "stream",
     "text": [
      "   RowNumber  CustomerId   Surname  CreditScore Geography  Gender  Age  \\\n",
      "0          1    15598695    Fields          619    France  Female   42   \n",
      "1          2    15649354  Johnston          608     Spain  Female   41   \n",
      "2          3    15737556  Vasilyev          502    France  Female   42   \n",
      "3          4    15671610    Hooper          699    France  Female   39   \n",
      "4          5    15625092   Colombo          850     Spain  Female   43   \n",
      "\n",
      "   Tenure    Balance  NumOfProducts  HasCrCard  IsActiveMember  \\\n",
      "0       2       0.00              1          1               1   \n",
      "1       1   83807.86              1          0               1   \n",
      "2       8  159660.80              3          1               0   \n",
      "3       1       0.00              2          0               0   \n",
      "4       2  125510.82              1          1               1   \n",
      "\n",
      "   EstimatedSalary  Exited  Complain  Satisfaction Score Card Type  \\\n",
      "0        101348.88       1         1                   2   DIAMOND   \n",
      "1        112542.58       0         1                   3   DIAMOND   \n",
      "2        113931.57       1         1                   3   DIAMOND   \n",
      "3         93826.63       0         0                   5      GOLD   \n",
      "4         79084.10       0         0                   5      GOLD   \n",
      "\n",
      "   Point Earned  \n",
      "0           464  \n",
      "1           456  \n",
      "2           377  \n",
      "3           350  \n",
      "4           425  \n"
     ]
    }
   ],
   "source": [
    "import pandas as pd\n",
    "\n",
    "filepath = r\"C:\\Users\\shepherd.runesu\\Desktop\\Projects\\Bank-Customer-Attrition-analysis\\data\\Bank_Customer_Attrition_Insights_Data.csv\"\n",
    "customer_df = pd.read_csv(filepath)\n",
    "print(customer_df.head(5))"
   ]
  },
  {
   "cell_type": "markdown",
   "metadata": {},
   "source": [
    "CASE 2 - Checking columns and shape of my dataset\n",
    "\n",
    "RESULT - done"
   ]
  },
  {
   "cell_type": "code",
   "execution_count": 5,
   "metadata": {},
   "outputs": [
    {
     "name": "stdout",
     "output_type": "stream",
     "text": [
      "Index(['RowNumber', 'CustomerId', 'Surname', 'CreditScore', 'Geography',\n",
      "       'Gender', 'Age', 'Tenure', 'Balance', 'NumOfProducts', 'HasCrCard',\n",
      "       'IsActiveMember', 'EstimatedSalary', 'Exited', 'Complain',\n",
      "       'Satisfaction Score', 'Card Type', 'Point Earned'],\n",
      "      dtype='object')\n",
      "(10000, 18)\n"
     ]
    }
   ],
   "source": [
    "print(customer_df.columns)\n",
    "print(customer_df.shape)"
   ]
  },
  {
   "cell_type": "markdown",
   "metadata": {},
   "source": [
    "CASE 3 - Checking datatypes\n",
    "\n",
    "result - the datatypes of the colums seems okay"
   ]
  },
  {
   "cell_type": "code",
   "execution_count": 6,
   "metadata": {},
   "outputs": [
    {
     "name": "stdout",
     "output_type": "stream",
     "text": [
      "RowNumber               int64\n",
      "CustomerId              int64\n",
      "Surname                object\n",
      "CreditScore             int64\n",
      "Geography              object\n",
      "Gender                 object\n",
      "Age                     int64\n",
      "Tenure                  int64\n",
      "Balance               float64\n",
      "NumOfProducts           int64\n",
      "HasCrCard               int64\n",
      "IsActiveMember          int64\n",
      "EstimatedSalary       float64\n",
      "Exited                  int64\n",
      "Complain                int64\n",
      "Satisfaction Score      int64\n",
      "Card Type              object\n",
      "Point Earned            int64\n",
      "dtype: object\n"
     ]
    }
   ],
   "source": [
    "print(customer_df.dtypes)"
   ]
  },
  {
   "cell_type": "markdown",
   "metadata": {},
   "source": [
    "CASE 4 - checking for missing values\n",
    "\n",
    "RESULT - no missing values"
   ]
  },
  {
   "cell_type": "code",
   "execution_count": 7,
   "metadata": {},
   "outputs": [
    {
     "name": "stdout",
     "output_type": "stream",
     "text": [
      "RowNumber             0\n",
      "CustomerId            0\n",
      "Surname               0\n",
      "CreditScore           0\n",
      "Geography             0\n",
      "Gender                0\n",
      "Age                   0\n",
      "Tenure                0\n",
      "Balance               0\n",
      "NumOfProducts         0\n",
      "HasCrCard             0\n",
      "IsActiveMember        0\n",
      "EstimatedSalary       0\n",
      "Exited                0\n",
      "Complain              0\n",
      "Satisfaction Score    0\n",
      "Card Type             0\n",
      "Point Earned          0\n",
      "dtype: int64\n"
     ]
    }
   ],
   "source": [
    "# Check for missing values in each column\n",
    "missing_values = customer_df.isnull().sum()\n",
    "print(missing_values)"
   ]
  }
 ],
 "metadata": {
  "kernelspec": {
   "display_name": "venv",
   "language": "python",
   "name": "python3"
  },
  "language_info": {
   "codemirror_mode": {
    "name": "ipython",
    "version": 3
   },
   "file_extension": ".py",
   "mimetype": "text/x-python",
   "name": "python",
   "nbconvert_exporter": "python",
   "pygments_lexer": "ipython3",
   "version": "3.13.1"
  }
 },
 "nbformat": 4,
 "nbformat_minor": 2
}
